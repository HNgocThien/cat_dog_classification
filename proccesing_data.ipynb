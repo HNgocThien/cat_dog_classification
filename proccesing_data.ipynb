{
 "cells": [
  {
   "cell_type": "markdown",
   "id": "4b0bf6c7",
   "metadata": {
    "papermill": {
     "duration": 0.003025,
     "end_time": "2025-03-06T14:21:16.688651",
     "exception": false,
     "start_time": "2025-03-06T14:21:16.685626",
     "status": "completed"
    },
    "tags": []
   },
   "source": [
    "PROCESSING NAME'S IMAGES TO LABEL"
   ]
  },
  {
   "cell_type": "code",
   "execution_count": 1,
   "id": "818bf9db",
   "metadata": {
    "execution": {
     "iopub.execute_input": "2025-03-06T14:21:16.694839Z",
     "iopub.status.busy": "2025-03-06T14:21:16.694589Z",
     "iopub.status.idle": "2025-03-06T14:21:17.749117Z",
     "shell.execute_reply": "2025-03-06T14:21:17.748144Z"
    },
    "papermill": {
     "duration": 1.05941,
     "end_time": "2025-03-06T14:21:17.750832",
     "exception": false,
     "start_time": "2025-03-06T14:21:16.691422",
     "status": "completed"
    },
    "tags": []
   },
   "outputs": [
    {
     "name": "stdout",
     "output_type": "stream",
     "text": [
      "✅ File labels.csv đã được tạo tại: D:\\THIEN_PROJECT\\cat-dog_classification\\labels\\labels.csv\n"
     ]
    }
   ],
   "source": [
    "import os\n",
    "import csv\n",
    "\n",
    "# 🔹 Định nghĩa đường dẫn (dùng raw string r\"\" để tránh lỗi escape)\n",
    "image_folder_path = r\"D:\\THIEN_PROJECT\\cat-dog_classification\\dataset\\train\"\n",
    "output_folder = r\"D:\\THIEN_PROJECT\\cat-dog_classification\\labels\"\n",
    "output_csv_path = os.path.join(output_folder, \"labels.csv\")\n",
    "\n",
    "# 🔹 Tạo thư mục nếu chưa tồn tại\n",
    "os.makedirs(output_folder, exist_ok=True)\n",
    "\n",
    "# 🔹 Lấy danh sách file ảnh và sắp xếp\n",
    "image_files = sorted([f for f in os.listdir(image_folder_path) if f.lower().endswith((\".jpg\", \".png\"))])\n",
    "\n",
    "# 🔹 Tạo file CSV và ghi header\n",
    "with open(output_csv_path, \"w\", newline=\"\") as csvfile:\n",
    "    csv_writer = csv.writer(csvfile)\n",
    "    csv_writer.writerow([\"filename\", \"label\"])  # Cột: tên ảnh và nhãn\n",
    "\n",
    "    # 🔹 Ghi dữ liệu vào CSV\n",
    "    for filename in image_files:\n",
    "        label = 1 if \"dog\" in filename.lower() else 0  # 1: dog, 0: cat\n",
    "        csv_writer.writerow([filename, label])\n",
    "\n",
    "print(f\"✅ File labels.csv đã được tạo tại: {output_csv_path}\")\n"
   ]
  },
  {
   "cell_type": "code",
   "execution_count": 2,
   "id": "94da4074",
   "metadata": {
    "execution": {
     "iopub.execute_input": "2025-03-06T14:21:17.757591Z",
     "iopub.status.busy": "2025-03-06T14:21:17.757330Z",
     "iopub.status.idle": "2025-03-06T14:21:18.529709Z",
     "shell.execute_reply": "2025-03-06T14:21:18.528618Z"
    },
    "papermill": {
     "duration": 0.777063,
     "end_time": "2025-03-06T14:21:18.531150",
     "exception": false,
     "start_time": "2025-03-06T14:21:17.754087",
     "status": "completed"
    },
    "tags": []
   },
   "outputs": [
    {
     "name": "stdout",
     "output_type": "stream",
     "text": [
      "         filename  label\n",
      "0       cat.0.jpg      0\n",
      "1       cat.1.jpg      0\n",
      "2      cat.10.jpg      0\n",
      "3     cat.100.jpg      0\n",
      "4    cat.1000.jpg      0\n",
      "5   cat.10000.jpg      0\n",
      "6   cat.10001.jpg      0\n",
      "7   cat.10002.jpg      0\n",
      "8   cat.10003.jpg      0\n",
      "9   cat.10004.jpg      0\n",
      "10  cat.10005.jpg      0\n",
      "11  cat.10006.jpg      0\n",
      "12  cat.10007.jpg      0\n",
      "13  cat.10008.jpg      0\n",
      "14  cat.10009.jpg      0\n",
      "15   cat.1001.jpg      0\n",
      "16  cat.10010.jpg      0\n",
      "17  cat.10011.jpg      0\n",
      "18  cat.10012.jpg      0\n",
      "19  cat.10013.jpg      0\n"
     ]
    }
   ],
   "source": [
    "import pandas as pd\n",
    "df = pd.read_csv(r\"D:\\THIEN_PROJECT\\cat-dog_classification\\labels\\labels.csv\")\n",
    "print(df.head(20))"
   ]
  },
  {
   "cell_type": "code",
   "execution_count": 3,
   "id": "71ab01b7",
   "metadata": {
    "execution": {
     "iopub.execute_input": "2025-03-06T14:30:14.323445Z",
     "iopub.status.busy": "2025-03-06T14:30:14.323150Z",
     "iopub.status.idle": "2025-03-06T14:30:14.391521Z",
     "shell.execute_reply": "2025-03-06T14:30:14.390617Z"
    },
    "papermill": {
     "duration": 0.13205,
     "end_time": "2025-03-06T14:30:14.392904",
     "exception": false,
     "start_time": "2025-03-06T14:30:14.260854",
     "status": "completed"
    },
    "tags": []
   },
   "outputs": [
    {
     "name": "stdout",
     "output_type": "stream",
     "text": [
      "File CSV đã được sắp xếp theo thứ tự tự nhiên tại D:\\THIEN_PROJECT\\cat-dog_classification\\predictions.csv\n"
     ]
    }
   ],
   "source": [
    "import pandas as pd\n",
    "import re\n",
    "\n",
    "# Đọc file CSV\n",
    "file_path = \"D:\\THIEN_PROJECT\\cat-dog_classification\\predictions.csv\"  # Thay bằng đường dẫn file CSV thực tế\n",
    "df = pd.read_csv(file_path)\n",
    "\n",
    "# Hàm trích xuất số từ tên file ảnh (natural sorting)\n",
    "def natural_sort_key(filename):\n",
    "    match = re.search(r'\\d+', filename)  # Lấy phần số trong tên file\n",
    "    return int(match.group()) if match else 0\n",
    "\n",
    "# Sắp xếp DataFrame theo thứ tự tự nhiên\n",
    "df.sort_values(by=\"filename\", key=lambda x: x.apply(natural_sort_key), inplace=True)\n",
    "\n",
    "# Ghi đè lại file CSV cũ\n",
    "df.to_csv(file_path, index=False)\n",
    "\n",
    "print(f\"File CSV đã được sắp xếp theo thứ tự tự nhiên tại {file_path}\")\n"
   ]
  },
  {
   "cell_type": "code",
   "execution_count": null,
   "id": "fd549eb8",
   "metadata": {
    "execution": {
     "iopub.execute_input": "2025-03-06T14:30:14.508303Z",
     "iopub.status.busy": "2025-03-06T14:30:14.507991Z",
     "iopub.status.idle": "2025-03-06T14:30:14.525960Z",
     "shell.execute_reply": "2025-03-06T14:30:14.524810Z"
    },
    "papermill": {
     "duration": 0.076492,
     "end_time": "2025-03-06T14:30:14.527325",
     "exception": false,
     "start_time": "2025-03-06T14:30:14.450833",
     "status": "completed"
    },
    "tags": []
   },
   "outputs": [
    {
     "name": "stdout",
     "output_type": "stream",
     "text": [
      "   filename predicted_class  cat_probability  dog_probability\n",
      "0     1.jpg             dog         0.365372         0.634628\n",
      "1     2.jpg             dog         0.038065         0.961935\n",
      "2     3.jpg             cat         0.685473         0.314527\n",
      "3     4.jpg             dog         0.015823         0.984177\n",
      "4     5.jpg             cat         0.919754         0.080246\n",
      "5     6.jpg             cat         0.837105         0.162895\n",
      "6     7.jpg             cat         0.975980         0.024020\n",
      "7     8.jpg             dog         0.312731         0.687269\n",
      "8     9.jpg             cat         0.933515         0.066485\n",
      "9    10.jpg             cat         0.897677         0.102323\n",
      "10   11.jpg             cat         0.975591         0.024409\n",
      "11   12.jpg             dog         0.100702         0.899298\n",
      "12   13.jpg             cat         0.580987         0.419013\n",
      "13   14.jpg             cat         0.730695         0.269305\n",
      "14   15.jpg             cat         0.651465         0.348535\n",
      "15   16.jpg             cat         0.965442         0.034558\n",
      "16   17.jpg             dog         0.453687         0.546313\n",
      "17   18.jpg             dog         0.118752         0.881248\n",
      "18   19.jpg             dog         0.140821         0.859179\n",
      "19   20.jpg             cat         0.920476         0.079524\n"
     ]
    }
   ],
   "source": [
    "import pandas as pd\n",
    "df = pd.read_csv(\"D:\\THIEN_PROJECT\\cat-dog_classification\\predictions.csv\")\n",
    "print(df.head(20))"
   ]
  }
 ],
 "metadata": {
  "kaggle": {
   "accelerator": "nvidiaTeslaT4",
   "dataSources": [
    {
     "datasetId": 6788837,
     "sourceId": 10919942,
     "sourceType": "datasetVersion"
    },
    {
     "datasetId": 6788920,
     "sourceId": 10920046,
     "sourceType": "datasetVersion"
    },
    {
     "datasetId": 6796971,
     "sourceId": 10931188,
     "sourceType": "datasetVersion"
    }
   ],
   "dockerImageVersionId": 30918,
   "isGpuEnabled": true,
   "isInternetEnabled": true,
   "language": "python",
   "sourceType": "notebook"
  },
  "kernelspec": {
   "display_name": "cat_dog_cls",
   "language": "python",
   "name": "python3"
  },
  "language_info": {
   "codemirror_mode": {
    "name": "ipython",
    "version": 3
   },
   "file_extension": ".py",
   "mimetype": "text/x-python",
   "name": "python",
   "nbconvert_exporter": "python",
   "pygments_lexer": "ipython3",
   "version": "3.10.16"
  },
  "papermill": {
   "default_parameters": {},
   "duration": 542.045855,
   "end_time": "2025-03-06T14:30:16.109312",
   "environment_variables": {},
   "exception": null,
   "input_path": "__notebook__.ipynb",
   "output_path": "__notebook__.ipynb",
   "parameters": {},
   "start_time": "2025-03-06T14:21:14.063457",
   "version": "2.6.0"
  }
 },
 "nbformat": 4,
 "nbformat_minor": 5
}
